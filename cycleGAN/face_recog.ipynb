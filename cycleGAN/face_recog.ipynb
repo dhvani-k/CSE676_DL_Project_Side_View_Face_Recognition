{
  "nbformat": 4,
  "nbformat_minor": 0,
  "metadata": {
    "colab": {
      "provenance": [],
      "machine_shape": "hm",
      "gpuType": "A100"
    },
    "kernelspec": {
      "name": "python3",
      "display_name": "Python 3"
    },
    "language_info": {
      "name": "python"
    },
    "accelerator": "GPU",
    "gpuClass": "standard"
  },
  "cells": [
    {
      "cell_type": "code",
      "source": [
        "!unzip -q input_dir.zip\n",
        "!unzip -q output_dir.zip"
      ],
      "metadata": {
        "id": "qzqyduYi1wsL"
      },
      "execution_count": 1,
      "outputs": []
    },
    {
      "cell_type": "code",
      "execution_count": 2,
      "metadata": {
        "colab": {
          "base_uri": "https://localhost:8080/"
        },
        "id": "J9d-IbCT1fKy",
        "outputId": "e0aff8e7-07fb-4942-d8e8-2d39cc1c98aa"
      },
      "outputs": [
        {
          "output_type": "stream",
          "name": "stdout",
          "text": [
            "Looking in indexes: https://pypi.org/simple, https://us-python.pkg.dev/colab-wheels/public/simple/\n",
            "Collecting face_recognition\n",
            "  Downloading face_recognition-1.3.0-py2.py3-none-any.whl (15 kB)\n",
            "Collecting face-recognition-models>=0.3.0 (from face_recognition)\n",
            "  Downloading face_recognition_models-0.3.0.tar.gz (100.1 MB)\n",
            "\u001b[2K     \u001b[90m━━━━━━━━━━━━━━━━━━━━━━━━━━━━━━━━━━━━━━\u001b[0m \u001b[32m100.1/100.1 MB\u001b[0m \u001b[31m17.4 MB/s\u001b[0m eta \u001b[36m0:00:00\u001b[0m\n",
            "\u001b[?25h  Preparing metadata (setup.py) ... \u001b[?25l\u001b[?25hdone\n",
            "Requirement already satisfied: Click>=6.0 in /usr/local/lib/python3.10/dist-packages (from face_recognition) (8.1.3)\n",
            "Requirement already satisfied: dlib>=19.7 in /usr/local/lib/python3.10/dist-packages (from face_recognition) (19.24.1)\n",
            "Requirement already satisfied: numpy in /usr/local/lib/python3.10/dist-packages (from face_recognition) (1.22.4)\n",
            "Requirement already satisfied: Pillow in /usr/local/lib/python3.10/dist-packages (from face_recognition) (8.4.0)\n",
            "Building wheels for collected packages: face-recognition-models\n",
            "  Building wheel for face-recognition-models (setup.py) ... \u001b[?25l\u001b[?25hdone\n",
            "  Created wheel for face-recognition-models: filename=face_recognition_models-0.3.0-py2.py3-none-any.whl size=100566173 sha256=11d0caa727295aaa3d051a9ea6615267bfc065117a9691d52e78b5b0d0f9b4b2\n",
            "  Stored in directory: /root/.cache/pip/wheels/7a/eb/cf/e9eced74122b679557f597bb7c8e4c739cfcac526db1fd523d\n",
            "Successfully built face-recognition-models\n",
            "Installing collected packages: face-recognition-models, face_recognition\n",
            "Successfully installed face-recognition-models-0.3.0 face_recognition-1.3.0\n"
          ]
        }
      ],
      "source": [
        "!pip install face_recognition"
      ]
    },
    {
      "cell_type": "code",
      "source": [
        "import os\n",
        "import face_recognition\n",
        "\n",
        "# Define the paths to the folders containing known and unknown faces\n",
        "known_faces_directory = '/content/input_dir'\n",
        "unknown_faces_directory = '/content/output_dir'\n",
        "\n",
        "# Initialize lists to store known and unknown face encodings and corresponding names\n",
        "known_face_encodings = []\n",
        "known_face_names = []\n",
        "unknown_face_encodings = []\n",
        "unknown_face_names = []\n",
        "\n",
        "# Load the known face encodings and names from the known faces directory\n",
        "for filename in os.listdir(known_faces_directory):\n",
        "    image_path = os.path.join(known_faces_directory, filename)\n",
        "    face_image = face_recognition.load_image_file(image_path)\n",
        "    face_encoding = face_recognition.face_encodings(face_image)[0]\n",
        "    known_face_encodings.append(face_encoding)\n",
        "    known_face_names.append(filename[:-4])  # Remove the file extension from the name\n",
        "\n",
        "# Load the unknown face encodings and names from the unknown faces directory\n",
        "for filename in os.listdir(unknown_faces_directory):\n",
        "    image_path = os.path.join(unknown_faces_directory, filename)\n",
        "    face_image = face_recognition.load_image_file(image_path)\n",
        "    face_encoding = face_recognition.face_encodings(face_image)[0]\n",
        "    unknown_face_encodings.append(face_encoding)\n",
        "    unknown_face_names.append(filename[:-4])  # Remove the file extension from the name\n",
        "\n",
        "# Perform face similarity measurement and calculate accuracy\n",
        "total_faces = len(unknown_face_names)\n",
        "similar_faces_count = 0\n",
        "\n",
        "for known_face_encoding, known_face_name in zip(known_face_encodings, known_face_names):\n",
        "    # Compare the known face encoding with the unknown face encodings\n",
        "    face_distances = face_recognition.face_distance(unknown_face_encodings, known_face_encoding)\n",
        "    closest_distance = min(face_distances)\n",
        "\n",
        "    # Check if the closest distance is below a threshold (e.g., 0.6) to consider it a similar face\n",
        "    if closest_distance < 0.3:\n",
        "        similar_faces_count += 1\n",
        "\n",
        "# Calculate accuracy\n",
        "accuracy = similar_faces_count / total_faces * 100\n",
        "\n",
        "# Print the accuracy\n",
        "print(f\"Similarity Accuracy: {accuracy:.2f}%\")\n"
      ],
      "metadata": {
        "colab": {
          "base_uri": "https://localhost:8080/"
        },
        "id": "AeR5_8VV6Jg9",
        "outputId": "bb0a265d-ab1b-4d0f-a02a-29e6ff992060"
      },
      "execution_count": 14,
      "outputs": [
        {
          "output_type": "stream",
          "name": "stdout",
          "text": [
            "Similarity Accuracy: 97.00%\n"
          ]
        }
      ]
    }
  ]
}